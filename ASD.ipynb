{
  "nbformat": 4,
  "nbformat_minor": 0,
  "metadata": {
    "colab": {
      "name": "ASD.ipynb",
      "provenance": [],
      "collapsed_sections": [
        "tWyMWLT4DUrX",
        "-ZakbDW6DQoW",
        "I4CrkL-JDaLR",
        "jEaL3OADF4pC",
        "rQemgcBiG2Fk",
        "KZdK69T7o2gM",
        "2D94EBdIuzAz",
        "dnHMDLpi4UXw"
      ],
      "authorship_tag": "ABX9TyOBUjijb2AM8Qe4s3TvGXMK",
      "include_colab_link": true
    },
    "kernelspec": {
      "name": "python3",
      "display_name": "Python 3"
    }
  },
  "cells": [
    {
      "cell_type": "markdown",
      "metadata": {
        "id": "view-in-github",
        "colab_type": "text"
      },
      "source": [
        "<a href=\"https://colab.research.google.com/github/bgrzesik/asd/blob/master/ASD.ipynb\" target=\"_parent\"><img src=\"https://colab.research.google.com/assets/colab-badge.svg\" alt=\"Open In Colab\"/></a>"
      ]
    },
    {
      "cell_type": "markdown",
      "metadata": {
        "id": "tWyMWLT4DUrX",
        "colab_type": "text"
      },
      "source": [
        "# Quick Sort"
      ]
    },
    {
      "cell_type": "code",
      "metadata": {
        "id": "d56uHtasezyy",
        "colab_type": "code",
        "colab": {}
      },
      "source": [
        "from random import shuffle"
      ],
      "execution_count": 0,
      "outputs": []
    },
    {
      "cell_type": "code",
      "metadata": {
        "id": "lKDa_NdRdQoW",
        "colab_type": "code",
        "colab": {}
      },
      "source": [
        "def partition(arr, p, r, pivot=None):\n",
        "    if pivot is None:\n",
        "        pivot = arr[r]\n",
        "\n",
        "    i = p - 1\n",
        "\n",
        "    for j in range(p, r):\n",
        "        if arr[j] <= pivot:\n",
        "            i += 1\n",
        "            arr[i], arr[j] = arr[j], arr[i]\n",
        "    \n",
        "    arr[i + 1], arr[r] = arr[r], arr[i + 1]\n",
        "    return i + 1\n",
        "\n",
        "def quicksort(arr, p, r):\n",
        "    if p < r:\n",
        "        q = partition(arr, p, r)\n",
        "        quicksort(arr, p, q - 1)\n",
        "        quicksort(arr, q + 1, r)\n",
        "\n"
      ],
      "execution_count": 0,
      "outputs": []
    },
    {
      "cell_type": "code",
      "metadata": {
        "id": "Auviforb9qOC",
        "colab_type": "code",
        "outputId": "de82e116-84ab-4981-c923-42d51811b2f7",
        "colab": {
          "base_uri": "https://localhost:8080/",
          "height": 34
        }
      },
      "source": [
        "tab = [1, 2, -2, 1, 4, 10, 11, 1, 405]\n",
        "iter_quicksort(tab, 0, len(tab) - 1)\n",
        "tab"
      ],
      "execution_count": 0,
      "outputs": [
        {
          "output_type": "execute_result",
          "data": {
            "text/plain": [
              "[-2, 1, 1, 1, 2, 4, 10, 11, 405]"
            ]
          },
          "metadata": {
            "tags": []
          },
          "execution_count": 85
        }
      ]
    },
    {
      "cell_type": "code",
      "metadata": {
        "id": "JjVFZGSw8tDo",
        "colab_type": "code",
        "colab": {}
      },
      "source": [
        "def iter_quicksort(arr, p, r):\n",
        "    stack = [(p, r)]\n",
        "\n",
        "    while stack:\n",
        "        p, r = stack.pop()\n",
        "\n",
        "        if p >= r:\n",
        "            continue\n",
        "\n",
        "        q = partition(arr, p, r)\n",
        "        \n",
        "        stack.append((p, q - 1))\n",
        "        stack.append((q + 1, r))\n",
        "\n"
      ],
      "execution_count": 0,
      "outputs": []
    },
    {
      "cell_type": "code",
      "metadata": {
        "id": "PDJEoixYeoY4",
        "colab_type": "code",
        "outputId": "edb7f61d-be83-4ce8-d60c-c268371b7383",
        "colab": {
          "base_uri": "https://localhost:8080/",
          "height": 34
        }
      },
      "source": [
        "tab = [1, 2, -2, 1, 4, 10, 11, 1, 405]\n",
        "quicksort(tab, 0, len(tab) - 1)\n",
        "tab"
      ],
      "execution_count": 0,
      "outputs": [
        {
          "output_type": "execute_result",
          "data": {
            "text/plain": [
              "[-2, 1, 1, 1, 2, 4, 10, 11, 405]"
            ]
          },
          "metadata": {
            "tags": []
          },
          "execution_count": 94
        }
      ]
    },
    {
      "cell_type": "code",
      "metadata": {
        "id": "t5F1hkSJB5Oe",
        "colab_type": "code",
        "colab": {}
      },
      "source": [
        "class Node:\n",
        "    def __init__(self):\n",
        "        self.next = None\n",
        "        self.val = None\n",
        "\n",
        "def to_nodes(arr):\n",
        "    head = Node()\n",
        "    head.val = arr[0]\n",
        "    i = head\n",
        "\n",
        "    for v in range(1, len(arr)):\n",
        "        i.next = Node()\n",
        "        i = i.next\n",
        "        i.val = arr[v]\n",
        "\n",
        "    return head\n",
        "    "
      ],
      "execution_count": 0,
      "outputs": []
    },
    {
      "cell_type": "code",
      "metadata": {
        "id": "zgaUXhHlCXr_",
        "colab_type": "code",
        "colab": {}
      },
      "source": [
        "def Partition(head):\n",
        "    left = None\n",
        "    right = None\n",
        "\n",
        "    pivot = head\n",
        "    head = head.next\n",
        "    pivot.next = None\n",
        "\n",
        "    while head is not None:\n",
        "        cur = head\n",
        "        head = head.next\n",
        "        cur.next = None\n",
        "\n",
        "        if cur.val <= pivot.val:\n",
        "            if left is None:\n",
        "                left = cur\n",
        "            else:\n",
        "                cur.next = left\n",
        "                left = cur\n",
        "        else:\n",
        "            if right is None:\n",
        "                right = cur\n",
        "            else:\n",
        "                cur.next = right\n",
        "                right = cur\n",
        "    \n",
        "    return left, pivot, right\n",
        "\n",
        "def QuickSort(chain):\n",
        "    if chain is None or chain.next is None:\n",
        "        return chain, chain\n",
        "    \n",
        "    left, pivot, right = Partition(chain)\n",
        "\n",
        "    left, left_last = QuickSort(left)\n",
        "    right, right_last = QuickSort(right)\n",
        "\n",
        "    if left is None or left_last is None:\n",
        "        left = pivot\n",
        "    else:\n",
        "        left_last.next = pivot\n",
        "\n",
        "    pivot.next = right\n",
        "\n",
        "    return left, right_last if right_last is not None else pivot\n"
      ],
      "execution_count": 0,
      "outputs": []
    },
    {
      "cell_type": "code",
      "metadata": {
        "id": "70_WKl_4FH5U",
        "colab_type": "code",
        "outputId": "c20786f6-db7f-4af5-eee2-8e1ca9ebf641",
        "colab": {
          "base_uri": "https://localhost:8080/",
          "height": 102
        }
      },
      "source": [
        "a, b = QuickSort(to_nodes([1, 2, 3, 4, 5]))\n",
        "\n",
        "while a is not None:\n",
        "    print(a.val)\n",
        "    a = a.next"
      ],
      "execution_count": 0,
      "outputs": [
        {
          "output_type": "stream",
          "text": [
            "1\n",
            "2\n",
            "3\n",
            "4\n",
            "5\n"
          ],
          "name": "stdout"
        }
      ]
    },
    {
      "cell_type": "code",
      "metadata": {
        "id": "QdoOOUOdFLrz",
        "colab_type": "code",
        "colab": {}
      },
      "source": [
        ""
      ],
      "execution_count": 0,
      "outputs": []
    },
    {
      "cell_type": "markdown",
      "metadata": {
        "id": "-ZakbDW6DQoW",
        "colab_type": "text"
      },
      "source": [
        "# Merge Sort"
      ]
    },
    {
      "cell_type": "code",
      "metadata": {
        "id": "AnpJdtJ5hHwY",
        "colab_type": "code",
        "colab": {}
      },
      "source": [
        "def merge(A, p, q, r):\n",
        "    L = A[p:q + 1].copy()\n",
        "    R = A[q + 1:r + 1].copy()\n",
        "\n",
        "    B = []\n",
        "\n",
        "    i = 0\n",
        "    j = 0\n",
        "\n",
        "    while i < len(L) and j < len(R):\n",
        "        if L[i] < R[j]:\n",
        "            B.append(L[i])\n",
        "            i += 1\n",
        "        else:\n",
        "            B.append(R[j])\n",
        "            j += 1\n",
        "\n",
        "    A[p:r+1] = B + L[i:] + R[j:]\n",
        "\n",
        "\n",
        "\n",
        "\n",
        "def msort(arr, p=0, k=None):\n",
        "    if k is None:\n",
        "        k = len(arr) - 1\n",
        "\n",
        "    if p == k:\n",
        "        return\n",
        "    \n",
        "    sr = (p + k) // 2\n",
        "\n",
        "    msort(arr, p, sr)\n",
        "    msort(arr, sr + 1, k)\n",
        "    merge(arr, p, sr, k)\n",
        "    \n"
      ],
      "execution_count": 0,
      "outputs": []
    },
    {
      "cell_type": "code",
      "metadata": {
        "id": "_lpPjKDfj5WV",
        "colab_type": "code",
        "outputId": "0de99305-ab0f-405b-bc4f-10ba22ca89bc",
        "colab": {
          "base_uri": "https://localhost:8080/",
          "height": 34
        }
      },
      "source": [
        "tab = [1, 2, -2, 1, 4, 10, 11, 1, 405]\n",
        "msort(tab)\n",
        "tab"
      ],
      "execution_count": 0,
      "outputs": [
        {
          "output_type": "execute_result",
          "data": {
            "text/plain": [
              "[-2, 1, 1, 1, 2, 4, 10, 11, 405]"
            ]
          },
          "metadata": {
            "tags": []
          },
          "execution_count": 12
        }
      ]
    },
    {
      "cell_type": "markdown",
      "metadata": {
        "id": "I4CrkL-JDaLR",
        "colab_type": "text"
      },
      "source": [
        "# Counting Sort"
      ]
    },
    {
      "cell_type": "code",
      "metadata": {
        "id": "dECn6f8aDfJO",
        "colab_type": "code",
        "colab": {}
      },
      "source": [
        "def counting_sort(arr, k):\n",
        "    num = [0] * k\n",
        "    buf = [None] * len(arr)\n",
        "\n",
        "    for el in arr:\n",
        "        num[el] += 1\n",
        "    \n",
        "    for i in range(1, k):\n",
        "        num[i] += num[i - 1]\n",
        "    \n",
        "    for i in range(len(arr) - 1, -1, -1):\n",
        "        val = arr[i]\n",
        "\n",
        "        num[val] -= 1\n",
        "        buf[num[val]] = val\n",
        "        \n",
        "    arr[:] = buf\n",
        "\n",
        "\n"
      ],
      "execution_count": 0,
      "outputs": []
    },
    {
      "cell_type": "code",
      "metadata": {
        "id": "TNS8JRDDE60K",
        "colab_type": "code",
        "outputId": "1ba11d5e-3471-43a8-85cd-3d8fc4335046",
        "colab": {
          "base_uri": "https://localhost:8080/",
          "height": 34
        }
      },
      "source": [
        "tab = [0,0,2,3,4,1,3,3,3,4,5]\n",
        "counting_sort(tab, 6)\n",
        "tab, list(sorted([0,0,2,3,4,1,3,3,3,4,5]))"
      ],
      "execution_count": 0,
      "outputs": [
        {
          "output_type": "execute_result",
          "data": {
            "text/plain": [
              "([0, 0, 1, 2, 3, 3, 3, 3, 4, 4, 5], [0, 0, 1, 2, 3, 3, 3, 3, 4, 4, 5])"
            ]
          },
          "metadata": {
            "tags": []
          },
          "execution_count": 40
        }
      ]
    },
    {
      "cell_type": "markdown",
      "metadata": {
        "id": "jEaL3OADF4pC",
        "colab_type": "text"
      },
      "source": [
        "# Bubble Sort"
      ]
    },
    {
      "cell_type": "code",
      "metadata": {
        "id": "k1BxS-BtF3n9",
        "colab_type": "code",
        "colab": {}
      },
      "source": [
        "def bubble_sort(arr):\n",
        "    for i in range(1, len(arr)):\n",
        "        for j in range(i):\n",
        "            if arr[i] < arr[j]:\n",
        "                arr[i], arr[j] = arr[j], arr[i]"
      ],
      "execution_count": 0,
      "outputs": []
    },
    {
      "cell_type": "code",
      "metadata": {
        "id": "vDRWU4uHGL1D",
        "colab_type": "code",
        "outputId": "bc5a71b6-974b-47c6-b5bf-337ca2a89267",
        "colab": {
          "base_uri": "https://localhost:8080/",
          "height": 34
        }
      },
      "source": [
        "tab = [0,0,2,3,4,1,3,3,3,4,5]\n",
        "bubble_sort(tab)\n",
        "tab, list(sorted([0,0,2,3,4,1,3,3,3,4,5]))"
      ],
      "execution_count": 0,
      "outputs": [
        {
          "output_type": "execute_result",
          "data": {
            "text/plain": [
              "([0, 0, 1, 2, 3, 3, 3, 3, 4, 4, 5], [0, 0, 1, 2, 3, 3, 3, 3, 4, 4, 5])"
            ]
          },
          "metadata": {
            "tags": []
          },
          "execution_count": 27
        }
      ]
    },
    {
      "cell_type": "markdown",
      "metadata": {
        "id": "rQemgcBiG2Fk",
        "colab_type": "text"
      },
      "source": [
        "# Insert Sort"
      ]
    },
    {
      "cell_type": "code",
      "metadata": {
        "id": "D2lKEtlnG5G1",
        "colab_type": "code",
        "colab": {}
      },
      "source": [
        "def insert_sort(arr):\n",
        "    for i in range(1, len(arr)):\n",
        "        val = arr[i]\n",
        "\n",
        "        j = i - 1\n",
        "\n",
        "        while i >= 0 and arr[j] > val:\n",
        "            arr[j + 1] = arr[j]\n",
        "            j -= 1\n",
        "        \n",
        "        arr[j + 1] = val\n"
      ],
      "execution_count": 0,
      "outputs": []
    },
    {
      "cell_type": "code",
      "metadata": {
        "id": "-gej7EynHsdG",
        "colab_type": "code",
        "outputId": "14e77e46-5e4f-4c02-9a7b-1b2db72ee0e9",
        "colab": {
          "base_uri": "https://localhost:8080/",
          "height": 34
        }
      },
      "source": [
        "tab = [0,0,2,3,4,1,3,3,3,4,5]\n",
        "insert_sort(tab)\n",
        "tab, list(sorted([0,0,2,3,4,1,3,3,3,4,5]))"
      ],
      "execution_count": 0,
      "outputs": [
        {
          "output_type": "execute_result",
          "data": {
            "text/plain": [
              "([0, 0, 1, 2, 3, 3, 3, 3, 4, 4, 5], [0, 0, 1, 2, 3, 3, 3, 3, 4, 4, 5])"
            ]
          },
          "metadata": {
            "tags": []
          },
          "execution_count": 31
        }
      ]
    },
    {
      "cell_type": "markdown",
      "metadata": {
        "id": "KZdK69T7o2gM",
        "colab_type": "text"
      },
      "source": [
        "# Find nth smallest element"
      ]
    },
    {
      "cell_type": "code",
      "metadata": {
        "id": "dtks-S1Oo6Ql",
        "colab_type": "code",
        "colab": {}
      },
      "source": [
        "\n",
        "def select(arr, p, r, i):\n",
        "    if p == r: \n",
        "        return arr[p]\n",
        "\n",
        "    q = partition(arr, p, r)\n",
        "    k = q - p + 1\n",
        "\n",
        "    if k == i:\n",
        "        return arr[q]\n",
        "    elif i < k:\n",
        "        return select(arr, p, q - 1, i)\n",
        "    else:\n",
        "        return select(arr, q + 1, r, i - k)\n"
      ],
      "execution_count": 0,
      "outputs": []
    },
    {
      "cell_type": "code",
      "metadata": {
        "id": "MLiNU2ePAU-d",
        "colab_type": "code",
        "colab": {}
      },
      "source": [
        "def _select(arr, p, r, i):   \n",
        "    if p == r: \n",
        "        return arr[p]\n",
        "\n",
        "    q = partition(arr, p, r)\n",
        "    k = q - p + 1\n",
        "\n",
        "    if k == i:\n",
        "        return arr[q]\n",
        "    elif i < k:\n",
        "        return select(arr, p, q - 1, i)\n",
        "    else:\n",
        "        return select(arr, q + 1, r, i - k)\n",
        "\n",
        "\n",
        "def Select(arr, i):\n",
        "    return _select(arr, 0, len(arr) - 1, i)\n",
        " \n"
      ],
      "execution_count": 0,
      "outputs": []
    },
    {
      "cell_type": "code",
      "metadata": {
        "id": "2Pk71sPbAyTY",
        "colab_type": "code",
        "colab": {}
      },
      "source": [
        ""
      ],
      "execution_count": 0,
      "outputs": []
    },
    {
      "cell_type": "code",
      "metadata": {
        "id": "d27KSBP8pjXA",
        "colab_type": "code",
        "outputId": "4a4e8e23-0a8c-47ed-a539-93a6c3965978",
        "colab": {
          "base_uri": "https://localhost:8080/",
          "height": 34
        }
      },
      "source": [
        "tab = [0,2,4,1,3,5]\n",
        "tab, Select(tab, 2), list(sorted(tab))[2], list(sorted(tab))"
      ],
      "execution_count": 0,
      "outputs": [
        {
          "output_type": "execute_result",
          "data": {
            "text/plain": [
              "([0, 1, 2, 3, 4, 5], 1, 2, [0, 1, 2, 3, 4, 5])"
            ]
          },
          "metadata": {
            "tags": []
          },
          "execution_count": 93
        }
      ]
    },
    {
      "cell_type": "markdown",
      "metadata": {
        "id": "2D94EBdIuzAz",
        "colab_type": "text"
      },
      "source": [
        "# Bucket Sort"
      ]
    },
    {
      "cell_type": "code",
      "metadata": {
        "id": "2gBjASIxu1gM",
        "colab_type": "code",
        "colab": {}
      },
      "source": [
        "def bucket_sort(tab, k):\n",
        "    b = [[] for i in range(k)]\n",
        "\n",
        "    for el in tab:\n",
        "        b[int(k * el)].append(el)\n",
        "    \n",
        "    for i in range(k):\n",
        "        b[i].sort()\n",
        "    \n",
        "    res = []\n",
        "    \n",
        "    for t in b:\n",
        "        res.extend(t)\n",
        "    \n",
        "    return res\n"
      ],
      "execution_count": 0,
      "outputs": []
    },
    {
      "cell_type": "code",
      "metadata": {
        "id": "yh53vaP0vmft",
        "colab_type": "code",
        "outputId": "b93ff089-47f3-4dc1-82aa-49aeedc44bec",
        "colab": {
          "base_uri": "https://localhost:8080/",
          "height": 34
        }
      },
      "source": [
        "tab = [0.1, 0.25, 0.2, 0.3, 0.11, 0.14, 0.6, 0.7, 0.3, 0.4]\n",
        "bucket_sort(tab, len(tab) // 2)"
      ],
      "execution_count": 0,
      "outputs": [
        {
          "output_type": "execute_result",
          "data": {
            "text/plain": [
              "[0.1, 0.11, 0.14, 0.2, 0.25, 0.3, 0.3, 0.4, 0.6, 0.7]"
            ]
          },
          "metadata": {
            "tags": []
          },
          "execution_count": 28
        }
      ]
    },
    {
      "cell_type": "markdown",
      "metadata": {
        "id": "dnHMDLpi4UXw",
        "colab_type": "text"
      },
      "source": [
        "# Find range"
      ]
    },
    {
      "cell_type": "code",
      "metadata": {
        "id": "xPrtaFOf4Y-0",
        "colab_type": "code",
        "colab": {}
      },
      "source": [
        "def find_range(arr, p, r, nmin, nmax):\n",
        "    vmin = select(arr, p, r, nmin)\n",
        "    vmax = select(arr, p, r, nmax)\n",
        "\n",
        "    q1 = partition(arr, p, r, pivot=vmin)\n",
        "    print(arr, vmin, q1)\n",
        "\n",
        "    q2 = partition(arr, q1, r, pivot=vmax)\n",
        "    print(arr, vmax, q2)\n",
        "\n",
        "    print(vmin, vmax, q1, q2)\n",
        "\n",
        "    return arr[q1 - 1:q2 + 1]\n"
      ],
      "execution_count": 0,
      "outputs": []
    },
    {
      "cell_type": "code",
      "metadata": {
        "id": "Z_Q4V2IU5oDV",
        "colab_type": "code",
        "outputId": "8f742769-876d-4cdb-b3d8-2a05bdf68175",
        "colab": {
          "base_uri": "https://localhost:8080/",
          "height": 85
        }
      },
      "source": [
        "tab = [0,2,4,1,3,5]\n",
        "find_range(tab, 0, len(tab) - 1, 2, 4), tab, list(sorted([0,2,4,1,3,5]))"
      ],
      "execution_count": 0,
      "outputs": [
        {
          "output_type": "stream",
          "text": [
            "[0, 1, 5, 3, 4, 2] 1 2\n",
            "[0, 1, 3, 2, 4, 5] 3 3\n",
            "1 3 2 3\n"
          ],
          "name": "stdout"
        },
        {
          "output_type": "execute_result",
          "data": {
            "text/plain": [
              "([1, 3, 2], [0, 1, 3, 2, 4, 5], [0, 1, 2, 3, 4, 5])"
            ]
          },
          "metadata": {
            "tags": []
          },
          "execution_count": 79
        }
      ]
    },
    {
      "cell_type": "markdown",
      "metadata": {
        "id": "Ro8t7uQZTTFO",
        "colab_type": "text"
      },
      "source": [
        "# Knapsack"
      ]
    },
    {
      "cell_type": "code",
      "metadata": {
        "id": "XmwaRZwtTaJT",
        "colab_type": "code",
        "colab": {}
      },
      "source": [
        "def knapsack(W, P, max_w):\n",
        "    n = len(W)\n",
        "    F = [None] * n\n",
        "\n",
        "    for i in range(n):\n",
        "        F[i] = [0] * (max_w + 1)        \n",
        "\n",
        "    for w in range(W[0], max_w + 1):\n",
        "        F[0][w] = P[0]\n",
        "    \n",
        "    for i in range(1, n):\n",
        "        for w in range(1, max_w + 1):\n",
        "            F[i][w] = F[i - 1][w]\n",
        "\n",
        "            if w >= W[i]:\n",
        "                F[i][w] = max(F[i][w], F[i - 1][w - W[i]] + P[i])\n",
        "    \n",
        "    return F[n - 1][max_w]"
      ],
      "execution_count": 0,
      "outputs": []
    },
    {
      "cell_type": "code",
      "metadata": {
        "id": "CzhrxS85eGlt",
        "colab_type": "code",
        "outputId": "209ba7a4-37fb-44bd-c827-20d859ccce20",
        "colab": {
          "base_uri": "https://localhost:8080/",
          "height": 34
        }
      },
      "source": [
        "W = [4, 1, 2, 4, 3, 5, 10, 3]\n",
        "P = [7, 3, 2, 10, 4, 1, 7, 2]\n",
        "\n",
        "knapsack(W, P, 11)"
      ],
      "execution_count": 0,
      "outputs": [
        {
          "output_type": "execute_result",
          "data": {
            "text/plain": [
              "22"
            ]
          },
          "metadata": {
            "tags": []
          },
          "execution_count": 44
        }
      ]
    },
    {
      "cell_type": "code",
      "metadata": {
        "id": "F9kCmTDUjopb",
        "colab_type": "code",
        "colab": {}
      },
      "source": [
        "def knapsack(W, P, max_w):\n",
        "    n = len(W)\n",
        "    F = [[0] * (max_w + 1) for i in range(n)]        \n",
        "\n",
        "    # używam zagnieżdżonych funkcji aby uniknąć używania zmieninych globalnych\n",
        "    def f(i, w):\n",
        "        val = 0\n",
        "\n",
        "        if F[i][w] != 0:\n",
        "            return F[i][w]\n",
        "        elif (i == 0 and w < W[0]) or w == 0:\n",
        "            val = 0\n",
        "        elif i == 0:\n",
        "            val = P[0]\n",
        "        else:\n",
        "            val = f(i - 1, w)\n",
        "            if w >= W[i]:\n",
        "                val = max(val, f(i - 1, w - W[i])  + P[i]) \n",
        "\n",
        "        F[i][w] = val\n",
        "\n",
        "        return val\n",
        "    \n",
        "    return f(n - 1, max_w)"
      ],
      "execution_count": 0,
      "outputs": []
    },
    {
      "cell_type": "code",
      "metadata": {
        "id": "lZ3UPhoJlc28",
        "colab_type": "code",
        "outputId": "e5c49808-2a8f-4ff2-b835-a48615e74f6f",
        "colab": {
          "base_uri": "https://localhost:8080/",
          "height": 34
        }
      },
      "source": [
        "W = [4, 1, 2, 4, 3, 5, 10, 3]\n",
        "P = [7, 3, 2, 10, 4, 1, 7, 2]\n",
        "\n",
        "knapsack(W, P, 11)"
      ],
      "execution_count": 0,
      "outputs": [
        {
          "output_type": "execute_result",
          "data": {
            "text/plain": [
              "22"
            ]
          },
          "metadata": {
            "tags": []
          },
          "execution_count": 62
        }
      ]
    },
    {
      "cell_type": "code",
      "metadata": {
        "id": "UAbOu4ZBgvGW",
        "colab_type": "code",
        "colab": {}
      },
      "source": [
        "def knapsack(W, P, max_w):\n",
        "    n = len(W)\n",
        "    F = [[0] * (max_w + 1) for i in range(n)]        \n",
        "    N = [[(-1, -1)] * (max_w + 1) for i in range(n)] # tablica przechowująca \"x i y\" poprzedniego elementu z F\n",
        "\n",
        "    for w in range(W[0], max_w + 1):\n",
        "        F[0][w] = P[0]\n",
        "    \n",
        "    for i in range(1, n):\n",
        "        for w in range(1, max_w + 1):\n",
        "            F[i][w] = F[i - 1][w]\n",
        "            N[i][w] = (i - 1, w) \n",
        "\n",
        "            if w >= W[i]:\n",
        "                profit = F[i - 1][w - W[i]] + P[i]\n",
        "                if F[i][w] < profit:\n",
        "                    F[i][w] = profit\n",
        "                    N[i][w] = (i - 1, w - W[i])\n",
        "    \n",
        "\n",
        "    items = []\n",
        "    i, w = N[n - 1][max_w]\n",
        "    \n",
        "    while i != -1:\n",
        "        ni, nw = N[i][w]\n",
        "        if nw != w and w != -1:\n",
        "            items.append(i) # wybieram tylko indeksy po których nastąpiła \"zmiana wagi plecaka\"\n",
        "        i, w = ni, nw\n",
        "\n",
        "    return F[n - 1][max_w], items"
      ],
      "execution_count": 0,
      "outputs": []
    },
    {
      "cell_type": "code",
      "metadata": {
        "id": "yubGgUUUih3R",
        "colab_type": "code",
        "outputId": "0aefb0d9-440b-4ed7-dd05-ca201d84c49b",
        "colab": {
          "base_uri": "https://localhost:8080/",
          "height": 34
        }
      },
      "source": [
        "W = [4, 1, 2, 4, 3, 5, 10, 3]\n",
        "P = [7, 3, 2, 10, 4, 1, 7, 2]\n",
        "\n",
        "knapsack(W, P, 11)"
      ],
      "execution_count": 0,
      "outputs": [
        {
          "output_type": "execute_result",
          "data": {
            "text/plain": [
              "(22, [3, 2, 1, 0])"
            ]
          },
          "metadata": {
            "tags": []
          },
          "execution_count": 92
        }
      ]
    },
    {
      "cell_type": "markdown",
      "metadata": {
        "id": "7hZhs3RFsidp",
        "colab_type": "text"
      },
      "source": [
        ""
      ]
    },
    {
      "cell_type": "markdown",
      "metadata": {
        "id": "l14GM_sgtCmL",
        "colab_type": "text"
      },
      "source": [
        "# Impreza Firmowa\n"
      ]
    },
    {
      "cell_type": "code",
      "metadata": {
        "id": "ZRfswm-YtJbN",
        "colab_type": "code",
        "colab": {}
      },
      "source": [
        "class Employee:\n",
        "    def __init__(self, fun, name):\n",
        "        self.emp = []\n",
        "        self.fun = fun\n",
        "        self.name = name\n",
        "        \n",
        "        self.f = -1\n",
        "        self.f_names = []\n",
        "\n",
        "        self.g = -1\n",
        "        self.g_names = []\n",
        "    \n",
        "def f(v):\n",
        "    if v.f >= 0:\n",
        "        return v.f, v.f_names\n",
        "\n",
        "    x = v.fun\n",
        "    x_names = []\n",
        "\n",
        "    for vi in v.emp:\n",
        "        vi_fun, vi_names = g(vi)\n",
        "\n",
        "        x += vi_fun\n",
        "        x_names.extend(vi_names)\n",
        "\n",
        "    y, y_names = g(v)\n",
        "\n",
        "    if x > y:\n",
        "        v.f = x\n",
        "        v.f_names = x_names\n",
        "        v.f_names.append(v.name) # w tym scenriuszu pracownik 'v' idzie na impreze\n",
        "    else:\n",
        "        v.f = y\n",
        "        v.f_names = y_names # w tym scenriuszu pracownik 'v' nie idzie na impreze\n",
        "\n",
        "    return v.f, v.f_names\n",
        "\n",
        "def g(v):\n",
        "    if v.g >= 0:\n",
        "        return v.g, v.g_names\n",
        "\n",
        "    v.g = 0\n",
        "    v.g_names = []\n",
        "\n",
        "    for vi in v.emp:\n",
        "        vi_fun, vi_names = f(vi)\n",
        "\n",
        "        v.g += vi_fun\n",
        "        v.g_names.append(vi_names)\n",
        "\n",
        "    return v.g, v.g_names\n",
        "\n"
      ],
      "execution_count": 0,
      "outputs": []
    }
  ]
}